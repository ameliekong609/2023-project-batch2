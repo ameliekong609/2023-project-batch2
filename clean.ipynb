{
 "cells": [
  {
   "cell_type": "code",
   "execution_count": 1,
   "metadata": {},
   "outputs": [],
   "source": [
    "#### import\n",
    "import pandas as pd\n",
    "import os\n",
    "os.chdir(\"C:\\\\Users\\\\mkong2\\\\OneDrive - KPMG\\\\Documents\\\\2023 Projects\\\\Myer Toys R us\")"
   ]
  },
  {
   "cell_type": "code",
   "execution_count": 2,
   "metadata": {},
   "outputs": [],
   "source": [
    "### import the data\n",
    "columns_to_keep = [\n",
    "'name', 'full_address',  'postal_code', 'city', 'state', 'latitude', 'longitude', 'google_id' ]\n",
    "BabyBunting = pd.read_excel('Baby bunting.xlsx',usecols=columns_to_keep)"
   ]
  },
  {
   "cell_type": "code",
   "execution_count": 3,
   "metadata": {},
   "outputs": [],
   "source": [
    "BabyBunting1 = BabyBunting[BabyBunting[\"name\"].str.contains(\"Baby Bunting\")]\n"
   ]
  },
  {
   "cell_type": "code",
   "execution_count": 4,
   "metadata": {},
   "outputs": [
    {
     "data": {
      "text/plain": [
       "(71, 8)"
      ]
     },
     "execution_count": 4,
     "metadata": {},
     "output_type": "execute_result"
    }
   ],
   "source": [
    "BabyBunting1.shape"
   ]
  },
  {
   "cell_type": "code",
   "execution_count": 8,
   "metadata": {},
   "outputs": [],
   "source": [
    "#import competitor\n",
    "\n",
    "\n",
    "columns_to_keep = ['MASTER_STORE_ID', 'COMPETITOR_TYPE_ENGLISH','Locality', \"Admin level 1\",\n",
    "    'FORMATTED_ADDRESS', 'GOOGLE_PLACE_ID', 'LATITUDE',\n",
    "    'LONGITUDE',  'Postcode', ]\n",
    "\n",
    "\n",
    "# Read the Excel file with sheet name\n",
    "sheet_name = 'competitor_stores' # Replace with the name of the sheet you want to read\n",
    "competitors = pd.read_excel('myer-data_v4.xlsx', sheet_name=sheet_name,usecols=columns_to_keep)\n",
    "\n"
   ]
  },
  {
   "cell_type": "code",
   "execution_count": 6,
   "metadata": {},
   "outputs": [
    {
     "data": {
      "text/plain": [
       "(694, 8)"
      ]
     },
     "execution_count": 6,
     "metadata": {},
     "output_type": "execute_result"
    }
   ],
   "source": [
    "competitors.shape"
   ]
  },
  {
   "cell_type": "code",
   "execution_count": 9,
   "metadata": {},
   "outputs": [],
   "source": [
    "## rename the columns in competitors\n",
    "new_columns = {'COMPETITOR_TYPE_ENGLISH':\"name\", \n",
    "            'FORMATTED_ADDRESS': \"full_address\", \n",
    "            \"GOOGLE_PLACE_ID\" : \"google_id\" ,\n",
    "            \"LATITUDE\" : \"latitude\", \n",
    "            \"LONGITUDE\" : \"longitude\", \n",
    "            \"Postcode\" : \"postal_code\",\n",
    "            \"Admin level 1\" : \"state\",\n",
    "            'Locality' : 'city' }\n",
    "\n",
    "competitors.rename(columns=new_columns, inplace=True)"
   ]
  },
  {
   "cell_type": "code",
   "execution_count": 10,
   "metadata": {},
   "outputs": [],
   "source": [
    "# filling missing value, if missing they are Myers\n",
    "competitors['name'].fillna('Myers', inplace=True)"
   ]
  },
  {
   "cell_type": "code",
   "execution_count": 11,
   "metadata": {},
   "outputs": [
    {
     "data": {
      "text/plain": [
       "Chemist Warehouse    239\n",
       "JB Hi-Fi             134\n",
       "Harvey Norman        116\n",
       "Myers                 59\n",
       "David Jones           39\n",
       "Harris Scarfe         33\n",
       "H&M                   32\n",
       "Zara                  23\n",
       "Uniqlo                18\n",
       "Debenhams              1\n",
       "Name: name, dtype: int64"
      ]
     },
     "execution_count": 11,
     "metadata": {},
     "output_type": "execute_result"
    }
   ],
   "source": [
    "# look at the competitor distribution \n",
    "competitors['name'].value_counts()"
   ]
  },
  {
   "cell_type": "code",
   "execution_count": 12,
   "metadata": {},
   "outputs": [
    {
     "name": "stderr",
     "output_type": "stream",
     "text": [
      "C:\\Users\\mkong2\\AppData\\Local\\Temp\\ipykernel_3548\\230923691.py:2: FutureWarning: The frame.append method is deprecated and will be removed from pandas in a future version. Use pandas.concat instead.\n",
      "  BabyBunting2 = BabyBunting1.append(competitors, ignore_index=True)\n"
     ]
    }
   ],
   "source": [
    "# append competitors to BabyBunting1\n",
    "BabyBunting2 = BabyBunting1.append(competitors, ignore_index=True)"
   ]
  },
  {
   "cell_type": "code",
   "execution_count": 13,
   "metadata": {},
   "outputs": [
    {
     "data": {
      "text/plain": [
       "(765, 9)"
      ]
     },
     "execution_count": 13,
     "metadata": {},
     "output_type": "execute_result"
    }
   ],
   "source": [
    "BabyBunting2.shape"
   ]
  },
  {
   "cell_type": "code",
   "execution_count": 14,
   "metadata": {},
   "outputs": [],
   "source": [
    "## master store id for baby bunting is name\n",
    "BabyBunting2[\"MASTER_STORE_ID\"] = BabyBunting2[\"MASTER_STORE_ID\"].fillna(BabyBunting2[\"name\"])"
   ]
  },
  {
   "cell_type": "code",
   "execution_count": 15,
   "metadata": {},
   "outputs": [],
   "source": [
    "# export to csv\n",
    "BabyBunting2.to_csv('BabyBunting2.csv', index=False)"
   ]
  },
  {
   "cell_type": "code",
   "execution_count": null,
   "metadata": {},
   "outputs": [],
   "source": [
    "##### append all csv in one folder\n",
    "import glob\n",
    "import pandas as pd\n"
   ]
  },
  {
   "cell_type": "code",
   "execution_count": 16,
   "metadata": {},
   "outputs": [
    {
     "name": "stdout",
     "output_type": "stream",
     "text": [
      "Master file created successfully!\n"
     ]
    }
   ],
   "source": [
    "import os\n",
    "import csv\n",
    "\n",
    "# Set the folder path where the CSV files are located\n",
    "folder_path = \"C:/Users/mkong2/OneDrive - KPMG/Documents/2023 Projects/Myer Toys R us/WEB SCRAPE/\"\n",
    "\n",
    "# Set the name of the master file\n",
    "master_file_path = folder_path + \"Master.csv\"\n",
    "\n",
    "# Create an empty list to hold the data\n",
    "data = []\n",
    "\n",
    "# Loop through all CSV files in the folder\n",
    "for filename in os.listdir(folder_path):\n",
    "    if filename.endswith(\".csv\"):\n",
    "        csv_file_path = folder_path + filename\n",
    "        with open(csv_file_path, \"r\", newline=\"\") as csv_file:\n",
    "            reader = csv.reader(csv_file)\n",
    "            next(reader)  # skip header row\n",
    "            for row in reader:\n",
    "                data.append([row[0], filename])  # append row and filename to data list\n",
    "\n",
    "# Write the data to the master file\n",
    "with open(master_file_path, \"w\", newline=\"\") as master_file:\n",
    "    writer = csv.writer(master_file)\n",
    "    writer.writerow([\"Title\", \"File Name\"])  # write header row\n",
    "    writer.writerows(data)\n",
    "\n",
    "print(\"Master file created successfully!\")\n"
   ]
  },
  {
   "cell_type": "code",
   "execution_count": null,
   "metadata": {},
   "outputs": [],
   "source": []
  }
 ],
 "metadata": {
  "kernelspec": {
   "display_name": "Python 3",
   "language": "python",
   "name": "python3"
  },
  "language_info": {
   "codemirror_mode": {
    "name": "ipython",
    "version": 3
   },
   "file_extension": ".py",
   "mimetype": "text/x-python",
   "name": "python",
   "nbconvert_exporter": "python",
   "pygments_lexer": "ipython3",
   "version": "3.9.12"
  },
  "orig_nbformat": 4
 },
 "nbformat": 4,
 "nbformat_minor": 2
}
