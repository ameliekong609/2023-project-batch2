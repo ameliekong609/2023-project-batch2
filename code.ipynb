{
 "cells": [
  {
   "cell_type": "code",
   "execution_count": 1,
   "metadata": {},
   "outputs": [],
   "source": [
    "import pandas as pd"
   ]
  },
  {
   "attachments": {},
   "cell_type": "markdown",
   "metadata": {},
   "source": [
    "### Clean the data"
   ]
  },
  {
   "cell_type": "code",
   "execution_count": 2,
   "metadata": {},
   "outputs": [],
   "source": [
    "input_dataset = pd.read_csv(\"Customer data for churn.csv\")\n",
    "\n",
    "### i found this is a monthly data, but same client same product same month have multiple value. see below\n",
    "input_dataset[(input_dataset['Customer_Name_Redacted'] == 'Customer 1332') & (input_dataset['KPMG_Sales_Date']=='2021-12-01')].sort_values(by=['Product_Name_Redacted'])\n",
    "\n",
    "### therefore, we need to aggregate/sum up the records by month.\n",
    "grouped_df = input_dataset.groupby(['KPMG_Sales_Date', 'Customer_Name_Redacted', 'Product_Category_Redacted', 'Product_Name_Redacted']).agg({'KPMG_ARR_Reported_AUD': 'sum'}).reset_index()\n"
   ]
  },
  {
   "cell_type": "code",
   "execution_count": 10,
   "metadata": {},
   "outputs": [],
   "source": [
    "### now the main focus is grouped_df\n",
    "df = grouped_df.copy()\n",
    "\n",
    "### convert the data to monthly data\n",
    "df['KPMG_Sales_Date'] = pd.to_datetime(df['KPMG_Sales_Date'])\n",
    "df['year'] = df['KPMG_Sales_Date'].dt.year\n",
    "df['month'] = df['KPMG_Sales_Date'].dt.month\n",
    "\n",
    "### remove data if the date is after 2021-12-01\n",
    "df = df[df['KPMG_Sales_Date'] < '2023-07-01']\n",
    "df = df[df['KPMG_ARR_Reported_AUD']>0]\n",
    "df=df[df['Product_Name_Redacted'] != 'Product Name 22']"
   ]
  },
  {
   "cell_type": "code",
   "execution_count": 4,
   "metadata": {},
   "outputs": [
    {
     "data": {
      "text/html": [
       "<div>\n",
       "<style scoped>\n",
       "    .dataframe tbody tr th:only-of-type {\n",
       "        vertical-align: middle;\n",
       "    }\n",
       "\n",
       "    .dataframe tbody tr th {\n",
       "        vertical-align: top;\n",
       "    }\n",
       "\n",
       "    .dataframe thead th {\n",
       "        text-align: right;\n",
       "    }\n",
       "</style>\n",
       "<table border=\"1\" class=\"dataframe\">\n",
       "  <thead>\n",
       "    <tr style=\"text-align: right;\">\n",
       "      <th></th>\n",
       "      <th>KPMG_Sales_Date</th>\n",
       "      <th>Customer_Name_Redacted</th>\n",
       "      <th>Product_Category_Redacted</th>\n",
       "      <th>Product_Name_Redacted</th>\n",
       "      <th>KPMG_ARR_Reported_AUD</th>\n",
       "    </tr>\n",
       "  </thead>\n",
       "  <tbody>\n",
       "    <tr>\n",
       "      <th>0</th>\n",
       "      <td>2016-12-01</td>\n",
       "      <td>Customer 1285</td>\n",
       "      <td>Product Category 4</td>\n",
       "      <td>Product Name 11</td>\n",
       "      <td>0.00</td>\n",
       "    </tr>\n",
       "    <tr>\n",
       "      <th>1</th>\n",
       "      <td>2016-12-01</td>\n",
       "      <td>Customer 1427</td>\n",
       "      <td>Product Category 6</td>\n",
       "      <td>Product Name 24</td>\n",
       "      <td>35964.00</td>\n",
       "    </tr>\n",
       "    <tr>\n",
       "      <th>2</th>\n",
       "      <td>2016-12-01</td>\n",
       "      <td>Customer 1564</td>\n",
       "      <td>Product Category 6</td>\n",
       "      <td>Product Name 24</td>\n",
       "      <td>3196.80</td>\n",
       "    </tr>\n",
       "    <tr>\n",
       "      <th>3</th>\n",
       "      <td>2016-12-01</td>\n",
       "      <td>Customer 1573</td>\n",
       "      <td>Product Category 4</td>\n",
       "      <td>Product Name 11</td>\n",
       "      <td>7600.08</td>\n",
       "    </tr>\n",
       "    <tr>\n",
       "      <th>4</th>\n",
       "      <td>2016-12-01</td>\n",
       "      <td>Customer 1632</td>\n",
       "      <td>Product Category 6</td>\n",
       "      <td>Product Name 24</td>\n",
       "      <td>21600.00</td>\n",
       "    </tr>\n",
       "  </tbody>\n",
       "</table>\n",
       "</div>"
      ],
      "text/plain": [
       "  KPMG_Sales_Date Customer_Name_Redacted Product_Category_Redacted  \\\n",
       "0      2016-12-01          Customer 1285        Product Category 4   \n",
       "1      2016-12-01          Customer 1427        Product Category 6   \n",
       "2      2016-12-01          Customer 1564        Product Category 6   \n",
       "3      2016-12-01          Customer 1573        Product Category 4   \n",
       "4      2016-12-01          Customer 1632        Product Category 6   \n",
       "\n",
       "  Product_Name_Redacted  KPMG_ARR_Reported_AUD  \n",
       "0       Product Name 11                   0.00  \n",
       "1       Product Name 24               35964.00  \n",
       "2       Product Name 24                3196.80  \n",
       "3       Product Name 11                7600.08  \n",
       "4       Product Name 24               21600.00  "
      ]
     },
     "execution_count": 4,
     "metadata": {},
     "output_type": "execute_result"
    }
   ],
   "source": [
    "grouped_df.head()"
   ]
  },
  {
   "attachments": {},
   "cell_type": "markdown",
   "metadata": {},
   "source": [
    "### some EDA"
   ]
  },
  {
   "cell_type": "code",
   "execution_count": 6,
   "metadata": {},
   "outputs": [
    {
     "name": "stderr",
     "output_type": "stream",
     "text": [
      "C:\\Users\\mkong2\\AppData\\Local\\Temp\\ipykernel_13044\\829464961.py:7: FutureWarning: merging between different levels is deprecated and will be removed in a future version. (2 levels on the left, 1 on the right)\n",
      "  temp = pd.merge(temp, temp2, on='Customer_Name_Redacted', how='left')\n"
     ]
    }
   ],
   "source": [
    "# how long is the total years with us? 2021-2018 = 3 years\n",
    "temp=df.groupby(['Customer_Name_Redacted']).agg({'KPMG_Sales_Date': ['min', 'max']}).reset_index()\n",
    "temp['engagement_mth'] = round((temp['KPMG_Sales_Date']['max'] - temp['KPMG_Sales_Date']['min']).dt.days/30,0)\n",
    "\n",
    "\n",
    "### total dollar amount during the engagement \n",
    "temp2 = df.groupby(['Customer_Name_Redacted']).agg({'KPMG_ARR_Reported_AUD': 'sum'}).reset_index()\n",
    "temp = pd.merge(temp, temp2, on='Customer_Name_Redacted', how='left')\n",
    "\n",
    "### how many product category in total?\n",
    "temp3 = df.groupby(['Customer_Name_Redacted']).agg({'Product_Category_Redacted': 'nunique'}).reset_index()\n",
    "temp3.rename(columns={'Product_Category_Redacted': 'Product_Category_Count'}, inplace=True)\n",
    "\n",
    "### how many products in total?\n",
    "temp4 = df.groupby(['Customer_Name_Redacted']).agg({'Product_Name_Redacted': 'nunique'}).reset_index()\n",
    "temp4.rename(columns={'Product_Name_Redacted': 'Product_Name_Count'}, inplace=True)\n",
    "\n",
    "### merge all the above together\n",
    "temp = pd.merge(temp, temp3, on='Customer_Name_Redacted', how='left')\n",
    "temp = pd.merge(temp, temp4, on='Customer_Name_Redacted', how='left')\n",
    "\n",
    "temp = temp.loc[:, ~temp.columns.duplicated()] \n",
    "\n",
    "### clean column names removing special characters\n",
    "temp.columns = temp.columns.map(''.join)\n",
    "\n",
    "## create a new column, if the max date is more than '2023-01-01' then 1 otherwise 0\n",
    "temp['future'] = temp['KPMG_Sales_Datemax'].dt.year.apply(lambda x: 1 if x > 2023 else 0)\n",
    " \n",
    "### whatt is the percentage of client with future flag?\n",
    "temp['future'].value_counts(normalize=True)  ### looks like it is 13.72% have projected income, regardless of they churn or not.\n",
    "\n",
    "\n",
    "# calculate the \"churn\" column based on whether the date is before today's date\n",
    "import datetime\n",
    "\n",
    "today_date = datetime.date(2023, 6, 1)\n",
    "temp['churn'] = temp['KPMG_Sales_Datemax'].apply(lambda x: 1 if x.date() < today_date else 0)\n",
    "\n",
    "### remove if any clients have zero engagement with 0 dollars\n",
    "\n",
    "rows_to_remove = temp[(temp['KPMG_Sales_Datemax'] == temp['KPMG_Sales_Datemin']) & (temp['KPMG_ARR_Reported_AUD']<=0)].index\n",
    "\n",
    "# remove the rows from the DataFrame\n",
    "temp = temp.drop(rows_to_remove)\n",
    "temp = temp.loc[:, ~temp.columns.duplicated()] \n",
    "\n",
    "######################################################################################################################################################\n",
    "\n",
    "# ### top and bottom 25% clients who have the longest engagement with us\n",
    "\n",
    "# # calculate the quartiles of engagement duration\n",
    "# quartiles = temp['engagement_mth'].quantile([0.25, 0.75])\n",
    "\n",
    "# # # find the threshold values for top and bottom quartiles\n",
    "# top_threshold = quartiles.loc[0.75]\n",
    "# bottom_threshold = quartiles.loc[0.25]\n",
    "\n",
    "# # # find the clients in the top and bottom quartiles\n",
    "# top_clients=temp[temp['engagement_mth'] >= top_threshold]['Customer_Name_Redacted']\n",
    "\n",
    "# bottom_clients = temp[temp['engagement_mth'] <= bottom_threshold]['Customer_Name_Redacted']\n",
    "\n",
    "# # # join back with the table df to see what products they buy?\n",
    "# top_clients_df = pd.merge(df, top_clients, on='Customer_Name_Redacted', how='inner')\n",
    "# bottom_clients_df = pd.merge(df, bottom_clients, on='Customer_Name_Redacted', how='inner')\n",
    "\n",
    "# ### for top clients, what is the top 5 product category they buy?\n",
    "# print(top_clients_df.groupby('Product_Category_Redacted')['KPMG_ARR_Reported_AUD'].sum().sort_values(ascending=False).head(5))\n",
    "# print(top_clients_df.groupby('Product_Name_Redacted')['KPMG_ARR_Reported_AUD'].sum().sort_values(ascending=False).head(5))\n",
    "\n",
    "# ### for bottom clients, what is the top 5 product category they buy?\n",
    "# print(bottom_clients_df.groupby('Product_Category_Redacted')['KPMG_ARR_Reported_AUD'].sum().sort_values(ascending=False).head(5))\n",
    "# print(bottom_clients_df.groupby('Product_Name_Redacted')['KPMG_ARR_Reported_AUD'].sum().sort_values(ascending=False).head(5))\n"
   ]
  },
  {
   "cell_type": "code",
   "execution_count": 12,
   "metadata": {},
   "outputs": [],
   "source": [
    "### export temp\n",
    "temp.to_csv('customer_level.csv', index=False)"
   ]
  },
  {
   "cell_type": "code",
   "execution_count": 236,
   "metadata": {},
   "outputs": [],
   "source": [
    "\n",
    "         \n",
    "### export df\n",
    "df.to_csv('monthly_data.csv', index=False)"
   ]
  },
  {
   "attachments": {},
   "cell_type": "markdown",
   "metadata": {},
   "source": [
    "### RFM\n"
   ]
  },
  {
   "attachments": {},
   "cell_type": "markdown",
   "metadata": {},
   "source": [
    "version 2 "
   ]
  },
  {
   "cell_type": "code",
   "execution_count": 237,
   "metadata": {},
   "outputs": [],
   "source": [
    "import datetime as dt\n",
    "today_date1 = dt.datetime(2023, 6, 1)\n",
    "\n",
    "df1 = df.copy()\n",
    "\n",
    "cltv = df1.groupby('Customer_Name_Redacted').agg({\n",
    "    'KPMG_Sales_Date': [\n",
    "        lambda x: (x.max() - x.min()).days,  # recency\n",
    "        lambda x: (today_date1 - x.min()).days  # T\n",
    "    ],\n",
    "    'Product_Name_Redacted': lambda x: x.count(),  # frequency\n",
    "    'KPMG_ARR_Reported_AUD': lambda x: x.sum()  # monetary\n",
    "})\n",
    "\n",
    "##### Tidy up columns\n",
    "cltv.columns = cltv.columns.droplevel(0)\n",
    "cltv.columns = ['recency', 'T', 'frequency', 'monetary']\n",
    "\n",
    "### filter out \n",
    "cltv = cltv[cltv['monetary'] > 0]\n",
    "cltv['monetary'] = cltv['monetary'] / cltv['frequency']   ### avg spending\n",
    "\n",
    "# transforming days to months\n",
    "cltv['recency'] = cltv['recency'] / 30\n",
    "cltv['T'] = cltv['T'] / 30\n",
    "\n",
    "## filter out\n",
    "cltv = cltv[(cltv['frequency'] > 1)]\n",
    "\n"
   ]
  },
  {
   "cell_type": "code",
   "execution_count": 238,
   "metadata": {},
   "outputs": [],
   "source": [
    "##### top clients with most purchase\n",
    "#####build the model\n",
    "bgf = BetaGeoFitter(penalizer_coef=0.001)\n",
    "bgf.fit(cltv['frequency'], cltv['recency'], cltv['T'])\n",
    "\n",
    "top_customer_most_purchase = bgf.conditional_expected_number_of_purchases_up_to_time(12, # months\n",
    "                                                        cltv['frequency'],\n",
    "                                                        cltv['recency'],\n",
    "                                                        cltv['T']).sort_values(ascending=False)\n",
    "\n",
    "\n",
    "top_customer_most_purchase = pd.DataFrame(top_customer_most_purchase).reset_index()\n",
    "top_customer_most_purchase.columns=['Customer_Name_Redacted','Score']\n",
    "\n",
    "## merge this table with customer table \n",
    " \n",
    "top_customer_most_purchase = pd.merge(top_customer_most_purchase, temp, on='Customer_Name_Redacted', how='left')\n",
    "# export this dataset\n",
    "top_customer_most_purchase.to_csv('top_customer_most_purchase.csv', index=False)"
   ]
  },
  {
   "cell_type": "code",
   "execution_count": 239,
   "metadata": {},
   "outputs": [],
   "source": [
    "##### valuable clients\n",
    "\n",
    "from lifetimes import GammaGammaFitter\n",
    "ggf = GammaGammaFitter(penalizer_coef=0.01)\n",
    "\n",
    "ggf.fit(cltv['frequency'], cltv['monetary'])\n",
    "\n",
    "####\n",
    "top_customer_most_valuable =ggf.conditional_expected_average_profit(cltv['frequency'],\n",
    "                               cltv['monetary']).sort_values(ascending=False)\n",
    "\n",
    "top_customer_most_valuable = pd.DataFrame(top_customer_most_valuable).reset_index()\n",
    "top_customer_most_valuable.columns=['Customer_Name_Redacted','Score']\n",
    "## merge this table with customer table \n",
    " \n",
    "top_customer_most_valuable = pd.merge(top_customer_most_valuable, temp, on='Customer_Name_Redacted', how='left')\n",
    "# export this dataset\n",
    "top_customer_most_valuable.to_csv('top_customer_most_valuable.csv', index=False)"
   ]
  },
  {
   "cell_type": "code",
   "execution_count": 241,
   "metadata": {},
   "outputs": [],
   "source": [
    "# The customers' lifetime values expected to in the next 3 months\n",
    "cltv['cltv_pred_FY24'] = ggf.customer_lifetime_value(bgf,\n",
    "                                   cltv['frequency'],\n",
    "                                   cltv['recency'],\n",
    "                                   cltv['T'],\n",
    "                                   cltv['monetary'],\n",
    "                                   time= 12,  # 6 months\n",
    "\n",
    "                                   freq=\"M\",  \n",
    "# frequency information of T. In this case we set week by using 'W'\n",
    "                                   discount_rate=0.01) \n",
    "\n",
    "cltv = pd.DataFrame(cltv).reset_index()\n",
    "cltv['segment'] = pd.qcut(cltv['cltv_pred_FY24'],3,['Low','Medium','High'])\n",
    "cltv.to_csv('cltv.csv', index=False)"
   ]
  },
  {
   "cell_type": "code",
   "execution_count": 242,
   "metadata": {},
   "outputs": [
    {
     "name": "stderr",
     "output_type": "stream",
     "text": [
      "c:\\Users\\mkong2\\AppData\\Local\\Programs\\Python\\Python39\\lib\\site-packages\\lifetimes\\fitters\\beta_geo_fitter.py:256: RuntimeWarning: overflow encountered in double_scalars\n",
      "  denominator = 1 + (x > 0) * (a / (b + x - 1)) * ((alpha + T) / (alpha + recency)) ** (r + x)\n"
     ]
    },
    {
     "data": {
      "text/plain": [
       "<AxesSubplot:title={'center':'Expected Number of Future Purchases for 1 Unit of Time,\\nby Frequency and Recency of a Customer'}, xlabel=\"Customer's Historical Frequency\", ylabel=\"Customer's Recency\">"
      ]
     },
     "execution_count": 242,
     "metadata": {},
     "output_type": "execute_result"
    },
    {
     "data": {
      "image/png": "[encoded data removed]",
      "text/plain": [
       "<Figure size 432x288 with 2 Axes>"
      ]
     },
     "metadata": {
      "needs_background": "light"
     },
     "output_type": "display_data"
    }
   ],
   "source": [
    "from lifetimes.plotting import plot_frequency_recency_matrix\n",
    "\n",
    "plot_frequency_recency_matrix(bgf)"
   ]
  },
  {
   "cell_type": "code",
   "execution_count": 24,
   "metadata": {},
   "outputs": [
    {
     "data": {
      "text/plain": [
       "5157015.311999999"
      ]
     },
     "execution_count": 24,
     "metadata": {},
     "output_type": "execute_result"
    }
   ],
   "source": [
    "df[df['Customer_Name_Redacted']=='Customer 2761' ]['KPMG_ARR_Reported_AUD'].sum()\n"
   ]
  },
  {
   "cell_type": "code",
   "execution_count": 21,
   "metadata": {},
   "outputs": [
    {
     "data": {
      "text/html": [
       "<div>\n",
       "<style scoped>\n",
       "    .dataframe tbody tr th:only-of-type {\n",
       "        vertical-align: middle;\n",
       "    }\n",
       "\n",
       "    .dataframe tbody tr th {\n",
       "        vertical-align: top;\n",
       "    }\n",
       "\n",
       "    .dataframe thead th {\n",
       "        text-align: right;\n",
       "    }\n",
       "</style>\n",
       "<table border=\"1\" class=\"dataframe\">\n",
       "  <thead>\n",
       "    <tr style=\"text-align: right;\">\n",
       "      <th></th>\n",
       "      <th>KPMG_Sales_Date</th>\n",
       "      <th>Customer_Name_Redacted</th>\n",
       "      <th>Product_Category_Redacted</th>\n",
       "      <th>Product_Name_Redacted</th>\n",
       "      <th>KPMG_ARR_Reported_AUD</th>\n",
       "      <th>year</th>\n",
       "      <th>month</th>\n",
       "    </tr>\n",
       "  </thead>\n",
       "  <tbody>\n",
       "    <tr>\n",
       "      <th>2481</th>\n",
       "      <td>2017-11-01</td>\n",
       "      <td>Customer 1849</td>\n",
       "      <td>Product Category 8</td>\n",
       "      <td>Product Name 20</td>\n",
       "      <td>77229.953904</td>\n",
       "      <td>2017</td>\n",
       "      <td>11</td>\n",
       "    </tr>\n",
       "    <tr>\n",
       "      <th>2607</th>\n",
       "      <td>2017-11-01</td>\n",
       "      <td>Customer 2898</td>\n",
       "      <td>Product Category 8</td>\n",
       "      <td>Product Name 20</td>\n",
       "      <td>1693.554450</td>\n",
       "      <td>2017</td>\n",
       "      <td>11</td>\n",
       "    </tr>\n",
       "    <tr>\n",
       "      <th>2730</th>\n",
       "      <td>2017-11-01</td>\n",
       "      <td>Customer 3929</td>\n",
       "      <td>Product Category 8</td>\n",
       "      <td>Product Name 20</td>\n",
       "      <td>63330.397500</td>\n",
       "      <td>2017</td>\n",
       "      <td>11</td>\n",
       "    </tr>\n",
       "    <tr>\n",
       "      <th>2757</th>\n",
       "      <td>2017-11-01</td>\n",
       "      <td>Customer 4233</td>\n",
       "      <td>Product Category 8</td>\n",
       "      <td>Product Name 20</td>\n",
       "      <td>46603.886004</td>\n",
       "      <td>2017</td>\n",
       "      <td>11</td>\n",
       "    </tr>\n",
       "    <tr>\n",
       "      <th>2974</th>\n",
       "      <td>2017-12-01</td>\n",
       "      <td>Customer 1849</td>\n",
       "      <td>Product Category 8</td>\n",
       "      <td>Product Name 20</td>\n",
       "      <td>77229.953904</td>\n",
       "      <td>2017</td>\n",
       "      <td>12</td>\n",
       "    </tr>\n",
       "    <tr>\n",
       "      <th>...</th>\n",
       "      <td>...</td>\n",
       "      <td>...</td>\n",
       "      <td>...</td>\n",
       "      <td>...</td>\n",
       "      <td>...</td>\n",
       "      <td>...</td>\n",
       "      <td>...</td>\n",
       "    </tr>\n",
       "    <tr>\n",
       "      <th>124378</th>\n",
       "      <td>2021-04-01</td>\n",
       "      <td>Customer 2427</td>\n",
       "      <td>Product Category 8</td>\n",
       "      <td>Product Name 20</td>\n",
       "      <td>9999.960000</td>\n",
       "      <td>2021</td>\n",
       "      <td>4</td>\n",
       "    </tr>\n",
       "    <tr>\n",
       "      <th>127441</th>\n",
       "      <td>2021-04-01</td>\n",
       "      <td>Customer 4335</td>\n",
       "      <td>Product Category 8</td>\n",
       "      <td>Product Name 20</td>\n",
       "      <td>11244.000000</td>\n",
       "      <td>2021</td>\n",
       "      <td>4</td>\n",
       "    </tr>\n",
       "    <tr>\n",
       "      <th>128315</th>\n",
       "      <td>2021-04-01</td>\n",
       "      <td>Customer 5</td>\n",
       "      <td>Product Category 8</td>\n",
       "      <td>Product Name 20</td>\n",
       "      <td>20340.000000</td>\n",
       "      <td>2021</td>\n",
       "      <td>4</td>\n",
       "    </tr>\n",
       "    <tr>\n",
       "      <th>131337</th>\n",
       "      <td>2021-05-01</td>\n",
       "      <td>Customer 2427</td>\n",
       "      <td>Product Category 8</td>\n",
       "      <td>Product Name 20</td>\n",
       "      <td>10000.440000</td>\n",
       "      <td>2021</td>\n",
       "      <td>5</td>\n",
       "    </tr>\n",
       "    <tr>\n",
       "      <th>134509</th>\n",
       "      <td>2021-05-01</td>\n",
       "      <td>Customer 4335</td>\n",
       "      <td>Product Category 8</td>\n",
       "      <td>Product Name 20</td>\n",
       "      <td>11244.000000</td>\n",
       "      <td>2021</td>\n",
       "      <td>5</td>\n",
       "    </tr>\n",
       "  </tbody>\n",
       "</table>\n",
       "<p>547 rows × 7 columns</p>\n",
       "</div>"
      ],
      "text/plain": [
       "       KPMG_Sales_Date Customer_Name_Redacted Product_Category_Redacted  \\\n",
       "2481        2017-11-01          Customer 1849        Product Category 8   \n",
       "2607        2017-11-01          Customer 2898        Product Category 8   \n",
       "2730        2017-11-01          Customer 3929        Product Category 8   \n",
       "2757        2017-11-01          Customer 4233        Product Category 8   \n",
       "2974        2017-12-01          Customer 1849        Product Category 8   \n",
       "...                ...                    ...                       ...   \n",
       "124378      2021-04-01          Customer 2427        Product Category 8   \n",
       "127441      2021-04-01          Customer 4335        Product Category 8   \n",
       "128315      2021-04-01             Customer 5        Product Category 8   \n",
       "131337      2021-05-01          Customer 2427        Product Category 8   \n",
       "134509      2021-05-01          Customer 4335        Product Category 8   \n",
       "\n",
       "       Product_Name_Redacted  KPMG_ARR_Reported_AUD  year  month  \n",
       "2481         Product Name 20           77229.953904  2017     11  \n",
       "2607         Product Name 20            1693.554450  2017     11  \n",
       "2730         Product Name 20           63330.397500  2017     11  \n",
       "2757         Product Name 20           46603.886004  2017     11  \n",
       "2974         Product Name 20           77229.953904  2017     12  \n",
       "...                      ...                    ...   ...    ...  \n",
       "124378       Product Name 20            9999.960000  2021      4  \n",
       "127441       Product Name 20           11244.000000  2021      4  \n",
       "128315       Product Name 20           20340.000000  2021      4  \n",
       "131337       Product Name 20           10000.440000  2021      5  \n",
       "134509       Product Name 20           11244.000000  2021      5  \n",
       "\n",
       "[547 rows x 7 columns]"
      ]
     },
     "execution_count": 21,
     "metadata": {},
     "output_type": "execute_result"
    }
   ],
   "source": [
    "df[df['Product_Name_Redacted']=='Product Name 20' ]"
   ]
  },
  {
   "cell_type": "code",
   "execution_count": null,
   "metadata": {},
   "outputs": [],
   "source": [
    "df."
   ]
  }
 ],
 "metadata": {
  "kernelspec": {
   "display_name": "Python 3",
   "language": "python",
   "name": "python3"
  },
  "language_info": {
   "codemirror_mode": {
    "name": "ipython",
    "version": 3
   },
   "file_extension": ".py",
   "mimetype": "text/x-python",
   "name": "python",
   "nbconvert_exporter": "python",
   "pygments_lexer": "ipython3",
   "version": "3.9.12"
  },
  "orig_nbformat": 4
 },
 "nbformat": 4,
 "nbformat_minor": 2
}
