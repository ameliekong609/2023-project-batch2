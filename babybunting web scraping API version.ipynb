{
 "cells": [
  {
   "cell_type": "code",
   "execution_count": 14,
   "metadata": {},
   "outputs": [
    {
     "name": "stderr",
     "output_type": "stream",
     "text": [
      "c:\\Users\\mkong2\\AppData\\Local\\Programs\\Python\\Python39\\lib\\site-packages\\urllib3\\connectionpool.py:1045: InsecureRequestWarning: Unverified HTTPS request is being made to host 'www.babybunting.com.au'. Adding certificate verification is strongly advised. See: https://urllib3.readthedocs.io/en/1.26.x/advanced-usage.html#ssl-warnings\n",
      "  warnings.warn(\n"
     ]
    },
    {
     "name": "stdout",
     "output_type": "stream",
     "text": [
      "['ChIJ38WHZwf9KysRUhNblaFnglM', 'ChIJSxCboN9MFmsRA3huXDhEWOc', 'ChIJ80w36xIPuWoREOKOYlQ2AwQ', 'ChIJ0YTziS4qOSoRmaMAMt9KDm4', 'ChIJ88foW55Yp2oR2ND6PZl5fts']\n"
     ]
    }
   ],
   "source": [
    "#### get PLaceID\n",
    "import requests\n",
    "import json\n",
    "\n",
    "url = \"https://www.babybunting.com.au/location-search\"\n",
    "params = {\n",
    "    \"query\": \"australia\",\n",
    "    \"country\": \"AU\"\n",
    "}\n",
    "headers = {\n",
    "    'Cookie': '_pxhd=a9dff21fab9e743b252aa47fa6e035d56723588eb84c4f07f0aa42af275d8131:3e36259d-da57-11ed-a53e-544678706765'\n",
    "}\n",
    "response = requests.get(url, params=params, headers=headers,verify =False)\n",
    "\n",
    "if response.status_code == 200:\n",
    "    data = json.loads(response.text)\n",
    "    results = data.get('resultsArray', [])\n",
    "\n",
    "    placeIds = []\n",
    "    for result in results:\n",
    "        placeId = result.get('placeId', '')\n",
    "        if placeId:\n",
    "            placeIds.append(placeId)\n",
    "\n",
    "    # do something with the extracted Place IDs, such as printing them to the console or storing them in a file or database\n",
    "    print(placeIds)\n",
    "else:\n",
    "    print(f\"Error getting Place IDs. Response code: {response.status_code}\")\n"
   ]
  },
  {
   "cell_type": "code",
   "execution_count": 15,
   "metadata": {},
   "outputs": [
    {
     "data": {
      "text/plain": [
       "['ChIJ38WHZwf9KysRUhNblaFnglM',\n",
       " 'ChIJSxCboN9MFmsRA3huXDhEWOc',\n",
       " 'ChIJ80w36xIPuWoREOKOYlQ2AwQ',\n",
       " 'ChIJ0YTziS4qOSoRmaMAMt9KDm4',\n",
       " 'ChIJ88foW55Yp2oR2ND6PZl5fts']"
      ]
     },
     "execution_count": 15,
     "metadata": {},
     "output_type": "execute_result"
    }
   ],
   "source": [
    "placeIds"
   ]
  },
  {
   "cell_type": "code",
   "execution_count": 16,
   "metadata": {},
   "outputs": [
    {
     "name": "stderr",
     "output_type": "stream",
     "text": [
      "c:\\Users\\mkong2\\AppData\\Local\\Programs\\Python\\Python39\\lib\\site-packages\\urllib3\\connectionpool.py:1045: InsecureRequestWarning: Unverified HTTPS request is being made to host 'www.babybunting.com.au'. Adding certificate verification is strongly advised. See: https://urllib3.readthedocs.io/en/1.26.x/advanced-usage.html#ssl-warnings\n",
      "  warnings.warn(\n",
      "c:\\Users\\mkong2\\AppData\\Local\\Programs\\Python\\Python39\\lib\\site-packages\\urllib3\\connectionpool.py:1045: InsecureRequestWarning: Unverified HTTPS request is being made to host 'www.babybunting.com.au'. Adding certificate verification is strongly advised. See: https://urllib3.readthedocs.io/en/1.26.x/advanced-usage.html#ssl-warnings\n",
      "  warnings.warn(\n",
      "c:\\Users\\mkong2\\AppData\\Local\\Programs\\Python\\Python39\\lib\\site-packages\\urllib3\\connectionpool.py:1045: InsecureRequestWarning: Unverified HTTPS request is being made to host 'www.babybunting.com.au'. Adding certificate verification is strongly advised. See: https://urllib3.readthedocs.io/en/1.26.x/advanced-usage.html#ssl-warnings\n",
      "  warnings.warn(\n",
      "c:\\Users\\mkong2\\AppData\\Local\\Programs\\Python\\Python39\\lib\\site-packages\\urllib3\\connectionpool.py:1045: InsecureRequestWarning: Unverified HTTPS request is being made to host 'www.babybunting.com.au'. Adding certificate verification is strongly advised. See: https://urllib3.readthedocs.io/en/1.26.x/advanced-usage.html#ssl-warnings\n",
      "  warnings.warn(\n",
      "c:\\Users\\mkong2\\AppData\\Local\\Programs\\Python\\Python39\\lib\\site-packages\\urllib3\\connectionpool.py:1045: InsecureRequestWarning: Unverified HTTPS request is being made to host 'www.babybunting.com.au'. Adding certificate verification is strongly advised. See: https://urllib3.readthedocs.io/en/1.26.x/advanced-usage.html#ssl-warnings\n",
      "  warnings.warn(\n"
     ]
    }
   ],
   "source": [
    "import requests\n",
    "import json\n",
    "import csv\n",
    "\n",
    "\n",
    "with open('store_details.csv', mode='w', newline='') as file:\n",
    "    writer = csv.writer(file)\n",
    "    writer.writerow(['Place ID', 'Address', 'Latitude', 'Longitude'])\n",
    "\n",
    "    for placeId in placeIds:\n",
    "        url = \"https://www.babybunting.com.au/location-details\"\n",
    "        params = {\n",
    "            \"placeId\": placeId\n",
    "        }\n",
    "        headers = {\n",
    "            'Cookie': '_pxhd=a9dff21fab9e743b252aa47fa6e035d56723588eb84c4f07f0aa42af275d8131:3e36259d-da57-11ed-a53e-544678706765'\n",
    "        }\n",
    "        response = requests.get(url, params=params, headers=headers,verify = False)\n",
    "\n",
    "        if response.status_code == 200:\n",
    "            data = json.loads(response.text)\n",
    "            location = data.get('location', {})\n",
    "            address = location.get('address', '')\n",
    "            geolocation = location.get('geolocation', {})\n",
    "            lat = geolocation.get('lat', '')\n",
    "            lng = geolocation.get('lng', '')\n",
    "\n",
    "            # write the extracted store details to the CSV file\n",
    "            writer.writerow([placeId, address, lat, lng])\n",
    "        else:\n",
    "            print(f\"Error getting store details for Place ID {placeId}. Response code: {response.status_code}\")\n"
   ]
  },
  {
   "cell_type": "code",
   "execution_count": null,
   "metadata": {},
   "outputs": [],
   "source": []
  }
 ],
 "metadata": {
  "kernelspec": {
   "display_name": "Python 3",
   "language": "python",
   "name": "python3"
  },
  "language_info": {
   "codemirror_mode": {
    "name": "ipython",
    "version": 3
   },
   "file_extension": ".py",
   "mimetype": "text/x-python",
   "name": "python",
   "nbconvert_exporter": "python",
   "pygments_lexer": "ipython3",
   "version": "3.9.12"
  },
  "orig_nbformat": 4
 },
 "nbformat": 4,
 "nbformat_minor": 2
}
