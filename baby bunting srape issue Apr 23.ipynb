{
 "cells": [
  {
   "cell_type": "code",
   "execution_count": 104,
   "metadata": {},
   "outputs": [
    {
     "ename": "TimeoutException",
     "evalue": "Message: \nStacktrace:\nBacktrace:\n\t(No symbol) [0x0046DCE3]\n\t(No symbol) [0x004039D1]\n\t(No symbol) [0x00314DA8]\n\t(No symbol) [0x0034019F]\n\t(No symbol) [0x003403AB]\n\t(No symbol) [0x0036EE62]\n\t(No symbol) [0x0035AF14]\n\t(No symbol) [0x0036D57C]\n\t(No symbol) [0x0035ACC6]\n\t(No symbol) [0x00336F68]\n\t(No symbol) [0x003380CD]\n\tGetHandleVerifier [0x006E3832+2506274]\n\tGetHandleVerifier [0x00719794+2727300]\n\tGetHandleVerifier [0x0071E36C+2746716]\n\tGetHandleVerifier [0x00516690+617600]\n\t(No symbol) [0x0040C712]\n\t(No symbol) [0x00411FF8]\n\t(No symbol) [0x004120DB]\n\t(No symbol) [0x0041C63B]\n\tBaseThreadInitThunk [0x768E00F9+25]\n\tRtlGetAppContainerNamedObjectPath [0x77537BBE+286]\n\tRtlGetAppContainerNamedObjectPath [0x77537B8E+238]\n",
     "output_type": "error",
     "traceback": [
      "\u001b[1;31m---------------------------------------------------------------------------\u001b[0m",
      "\u001b[1;31mTimeoutException\u001b[0m                          Traceback (most recent call last)",
      "\u001b[1;32m~\\AppData\\Local\\Temp\\ipykernel_13688\\4289559041.py\u001b[0m in \u001b[0;36m<cell line: 34>\u001b[1;34m()\u001b[0m\n\u001b[0;32m     32\u001b[0m \u001b[1;31m# Wait for the autocomplete dropdown to appear and become clickable\u001b[0m\u001b[1;33m\u001b[0m\u001b[1;33m\u001b[0m\u001b[0m\n\u001b[0;32m     33\u001b[0m \u001b[0mwait\u001b[0m \u001b[1;33m=\u001b[0m \u001b[0mWebDriverWait\u001b[0m\u001b[1;33m(\u001b[0m\u001b[0mdriver\u001b[0m\u001b[1;33m,\u001b[0m \u001b[1;36m30\u001b[0m\u001b[1;33m)\u001b[0m\u001b[1;33m\u001b[0m\u001b[1;33m\u001b[0m\u001b[0m\n\u001b[1;32m---> 34\u001b[1;33m \u001b[0mdropdown_element\u001b[0m \u001b[1;33m=\u001b[0m \u001b[0mwait\u001b[0m\u001b[1;33m.\u001b[0m\u001b[0muntil\u001b[0m\u001b[1;33m(\u001b[0m\u001b[0mEC\u001b[0m\u001b[1;33m.\u001b[0m\u001b[0melement_to_be_clickable\u001b[0m\u001b[1;33m(\u001b[0m\u001b[1;33m(\u001b[0m\u001b[0mBy\u001b[0m\u001b[1;33m.\u001b[0m\u001b[0mCSS_SELECTOR\u001b[0m\u001b[1;33m,\u001b[0m \u001b[1;34m\"ul.autocomplete__dropdown > li:nth-of-type(1)\"\u001b[0m\u001b[1;33m)\u001b[0m\u001b[1;33m)\u001b[0m\u001b[1;33m)\u001b[0m\u001b[1;33m\u001b[0m\u001b[1;33m\u001b[0m\u001b[0m\n\u001b[0m\u001b[0;32m     35\u001b[0m \u001b[1;33m\u001b[0m\u001b[0m\n\u001b[0;32m     36\u001b[0m \u001b[1;31m# Use ActionChains to simulate a user clicking on the dropdown and selecting the first item\u001b[0m\u001b[1;33m\u001b[0m\u001b[1;33m\u001b[0m\u001b[0m\n",
      "\u001b[1;32mc:\\Users\\mkong2\\AppData\\Local\\Programs\\Python\\Python39\\lib\\site-packages\\selenium\\webdriver\\support\\wait.py\u001b[0m in \u001b[0;36muntil\u001b[1;34m(self, method, message)\u001b[0m\n\u001b[0;32m     93\u001b[0m             \u001b[1;32mif\u001b[0m \u001b[0mtime\u001b[0m\u001b[1;33m.\u001b[0m\u001b[0mmonotonic\u001b[0m\u001b[1;33m(\u001b[0m\u001b[1;33m)\u001b[0m \u001b[1;33m>\u001b[0m \u001b[0mend_time\u001b[0m\u001b[1;33m:\u001b[0m\u001b[1;33m\u001b[0m\u001b[1;33m\u001b[0m\u001b[0m\n\u001b[0;32m     94\u001b[0m                 \u001b[1;32mbreak\u001b[0m\u001b[1;33m\u001b[0m\u001b[1;33m\u001b[0m\u001b[0m\n\u001b[1;32m---> 95\u001b[1;33m         \u001b[1;32mraise\u001b[0m \u001b[0mTimeoutException\u001b[0m\u001b[1;33m(\u001b[0m\u001b[0mmessage\u001b[0m\u001b[1;33m,\u001b[0m \u001b[0mscreen\u001b[0m\u001b[1;33m,\u001b[0m \u001b[0mstacktrace\u001b[0m\u001b[1;33m)\u001b[0m\u001b[1;33m\u001b[0m\u001b[1;33m\u001b[0m\u001b[0m\n\u001b[0m\u001b[0;32m     96\u001b[0m \u001b[1;33m\u001b[0m\u001b[0m\n\u001b[0;32m     97\u001b[0m     \u001b[1;32mdef\u001b[0m \u001b[0muntil_not\u001b[0m\u001b[1;33m(\u001b[0m\u001b[0mself\u001b[0m\u001b[1;33m,\u001b[0m \u001b[0mmethod\u001b[0m\u001b[1;33m,\u001b[0m \u001b[0mmessage\u001b[0m\u001b[1;33m:\u001b[0m \u001b[0mstr\u001b[0m \u001b[1;33m=\u001b[0m \u001b[1;34m\"\"\u001b[0m\u001b[1;33m)\u001b[0m\u001b[1;33m:\u001b[0m\u001b[1;33m\u001b[0m\u001b[1;33m\u001b[0m\u001b[0m\n",
      "\u001b[1;31mTimeoutException\u001b[0m: Message: \nStacktrace:\nBacktrace:\n\t(No symbol) [0x0046DCE3]\n\t(No symbol) [0x004039D1]\n\t(No symbol) [0x00314DA8]\n\t(No symbol) [0x0034019F]\n\t(No symbol) [0x003403AB]\n\t(No symbol) [0x0036EE62]\n\t(No symbol) [0x0035AF14]\n\t(No symbol) [0x0036D57C]\n\t(No symbol) [0x0035ACC6]\n\t(No symbol) [0x00336F68]\n\t(No symbol) [0x003380CD]\n\tGetHandleVerifier [0x006E3832+2506274]\n\tGetHandleVerifier [0x00719794+2727300]\n\tGetHandleVerifier [0x0071E36C+2746716]\n\tGetHandleVerifier [0x00516690+617600]\n\t(No symbol) [0x0040C712]\n\t(No symbol) [0x00411FF8]\n\t(No symbol) [0x004120DB]\n\t(No symbol) [0x0041C63B]\n\tBaseThreadInitThunk [0x768E00F9+25]\n\tRtlGetAppContainerNamedObjectPath [0x77537BBE+286]\n\tRtlGetAppContainerNamedObjectPath [0x77537B8E+238]\n"
     ]
    }
   ],
   "source": [
    "from selenium import webdriver\n",
    "from selenium.webdriver.chrome.service import Service\n",
    "from selenium.webdriver.common.by import By\n",
    "from selenium.webdriver.common.keys import Keys\n",
    "from selenium.webdriver.support.ui import WebDriverWait\n",
    "from selenium.webdriver.support import expected_conditions as EC\n",
    "from selenium.webdriver.common.action_chains import ActionChains\n",
    "\n",
    "# Set up the path of the chromedriver.exe file\n",
    "path = \"C:/chromedriver_win32/chromedriver.exe\"\n",
    "\n",
    "# Create a Service object with the path to the chromedriver executable\n",
    "service = Service(path)\n",
    "\n",
    "# Create an instance of the ChromeDriver with the Service object\n",
    "driver = webdriver.Chrome(service=service)\n",
    "\n",
    "# Navigate to the webpage\n",
    "driver.get(\"https://www.babybunting.com.au/find-a-store\")\n",
    "\n",
    "# Find the input element using the 'name' attribute\n",
    "input_element = driver.find_element(By.NAME, \"autoCompleteInput\")\n",
    "\n",
    "# Enter text into the input element\n",
    "input_element.send_keys(\"Melbourne VIC 3000, Australia\")\n",
    "\n",
    "######### by this far, the code is working fine. ###########################################\n",
    "# i stuck here. i want to click the first option in the dropdown list, but my code below never clicked on it. also i found the ENTER key is not working to select the first option in the dropdown list.\n",
    "\n",
    "########## try 1 ######\n",
    "\n",
    "# Wait for the autocomplete dropdown to appear and become clickable\n",
    "wait = WebDriverWait(driver, 30)\n",
    "dropdown_element = wait.until(EC.element_to_be_clickable((By.CSS_SELECTOR, \"ul.autocomplete__dropdown > li:nth-of-type(1)\")))\n",
    "\n",
    "# Use ActionChains to simulate a user clicking on the dropdown and selecting the first item\n",
    "actions = ActionChains(driver)\n",
    "actions.move_to_element(dropdown_element).click().perform()"
   ]
  },
  {
   "cell_type": "code",
   "execution_count": null,
   "metadata": {},
   "outputs": [],
   "source": [
    "\n"
   ]
  }
 ],
 "metadata": {
  "kernelspec": {
   "display_name": "Python 3",
   "language": "python",
   "name": "python3"
  },
  "language_info": {
   "codemirror_mode": {
    "name": "ipython",
    "version": 3
   },
   "file_extension": ".py",
   "mimetype": "text/x-python",
   "name": "python",
   "nbconvert_exporter": "python",
   "pygments_lexer": "ipython3",
   "version": "3.9.12"
  },
  "orig_nbformat": 4
 },
 "nbformat": 4,
 "nbformat_minor": 2
}
