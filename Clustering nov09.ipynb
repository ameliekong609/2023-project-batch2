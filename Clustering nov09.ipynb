{
 "cells": [
  {
   "cell_type": "code",
   "execution_count": 1,
   "outputs": [],
   "source": [
    "from sklearn import metrics\n",
    "import pandas as pd\n",
    "from sklearn.preprocessing import StandardScaler\n",
    "from sklearn import decomposition\n",
    "import numpy as np\n",
    "from sklearn.cluster import KMeans #K-Means Clustering\n",
    "from sklearn.model_selection import ParameterGrid\n",
    "import matplotlib.pyplot as plt\n",
    "import plotly.express as px\n",
    "import plotly.graph_objs as go\n",
    "from plotly.offline import download_plotlyjs, init_notebook_mode, plot, iplot\n",
    "from sklearn.cluster import AgglomerativeClustering\n",
    "import scipy.cluster.hierarchy as sch\n",
    "import sklearn\n",
    "import seaborn as sns\n",
    "from sklearn.preprocessing import MinMaxScaler\n",
    "from scipy.cluster import hierarchy\n",
    "import os\n",
    "import xlrd"
   ],
   "metadata": {
    "collapsed": false,
    "pycharm": {
     "name": "#%%\n"
    }
   }
  },
  {
   "cell_type": "code",
   "execution_count": 2,
   "outputs": [],
   "source": [
    "os.chdir(r'C:\\Users\\mkong2\\OneDrive - KPMG\\Documents\\2022 Projects\\ASX clustering\\Data')"
   ],
   "metadata": {
    "collapsed": false,
    "pycharm": {
     "name": "#%%\n"
    }
   }
  },
  {
   "cell_type": "markdown",
   "source": [
    "#### tidy up the data"
   ],
   "metadata": {
    "collapsed": false,
    "pycharm": {
     "name": "#%% md\n"
    }
   }
  },
  {
   "cell_type": "code",
   "execution_count": null,
   "outputs": [],
   "source": [
    "# raw_data1 = pd.ExcelFile('Horizon Scanning Constituents (1).xls')\n",
    "# raw_data1 = raw_data1.parse('Screening',skiprows =6, index_col = None)\n",
    "# colnames = raw_data1.iloc[0]\n",
    "# raw_data1= raw_data1[1:]\n",
    "# raw_data1.columns = colnames\n",
    "#\n",
    "# ### second file\n",
    "# raw_data2 = pd.ExcelFile('Horizon Scanning Constituents (2).xls')\n",
    "# raw_data2 = raw_data2.parse('Screening',skiprows =6, index_col = None)\n",
    "# colnames = raw_data2.iloc[0]\n",
    "# raw_data2= raw_data2[1:]\n",
    "# raw_data2.columns = colnames\n",
    "#\n",
    "# ###### third file\n",
    "# raw_data3 = pd.ExcelFile('Horizon Scanning Constituents (3).xls')\n",
    "# raw_data3 = raw_data3.parse('Screening',skiprows =6, index_col = None)\n",
    "# colnames = raw_data3.iloc[0]\n",
    "# raw_data3= raw_data3[1:]\n",
    "# raw_data3.columns = colnames\n",
    "\n",
    "###### fourth file\n",
    "raw_data5 = pd.ExcelFile('Horizon Scanning Constituents (5).xls')\n",
    "raw_data5 = raw_data5.parse('Screening',skiprows =6, index_col = None)\n",
    "colnames = raw_data5.iloc[0]\n",
    "raw_data5= raw_data5[1:]\n",
    "raw_data5.columns = colnames"
   ],
   "metadata": {
    "collapsed": false,
    "pycharm": {
     "name": "#%%\n"
    }
   }
  },
  {
   "cell_type": "code",
   "execution_count": 4,
   "outputs": [],
   "source": [
    "\n",
    "master_data = raw_data5\n",
    "#### append 3 datasets together\n",
    "# master_data = raw_data1.append(raw_data2).append(raw_data3).append(raw_data4)"
   ],
   "metadata": {
    "collapsed": false,
    "pycharm": {
     "name": "#%%\n"
    }
   }
  },
  {
   "cell_type": "code",
   "execution_count": 5,
   "outputs": [
    {
     "data": {
      "text/plain": "Exchange Country/Region [Primary Listing]\nUnited States     3691\nCanada            1109\nChina             1080\nJapan              958\nHong Kong          882\nAustralia          717\nUnited Kingdom     478\nFrance             285\nGermany            268\nItaly              164\nSingapore          158\nSwitzerland         75\nSpain               71\nDenmark             53\nPortugal            12\n-                    3\ndtype: int64"
     },
     "execution_count": 5,
     "metadata": {},
     "output_type": "execute_result"
    }
   ],
   "source": [
    "master_data.groupby(['Exchange Country/Region [Primary Listing]']).size().sort_values(ascending=False)"
   ],
   "metadata": {
    "collapsed": false,
    "pycharm": {
     "name": "#%%\n"
    }
   }
  },
  {
   "cell_type": "markdown",
   "source": [
    "#### we will have two dimensions of clustering :  one is by structure features, and the other is by performance features"
   ],
   "metadata": {
    "collapsed": false,
    "pycharm": {
     "name": "#%% md\n"
    }
   }
  },
  {
   "cell_type": "code",
   "execution_count": 6,
   "outputs": [
    {
     "data": {
      "text/plain": "Index(['Company Name', 'Exchange:Ticker',\n       'Market Capitalization [My Setting] [Latest] (USDmm, Historical rate)',\n       'Total Enterprise Value [My Setting] [Latest] (USDmm, Historical rate)',\n       'TEV/LTM EBITDA [My Setting] [Latest] (x)',\n       'TEV/LTM Total Revenues [My Setting] [Latest] (x)', 'Primary Sector',\n       'Industry Classifications', 'Altman Z Score [LTM]',\n       'Revenue Surprise - Capital IQ [FY]',\n       'EBITDA Surprise - Capital IQ [FY]',\n       'Total Revenue [LTM - 1] (USDmm, Historical rate)',\n       'Total Revenue [LTM] (USDmm, Historical rate)', 'EBITDA Margin % [LTM]',\n       'Gross Margin % [LTM]', 'Net Debt/EBITDA [LTM]',\n       'Total Debt/Equity % [Latest Quarter]', 'P/BV [Latest] (x)',\n       'Forward P/E - Capital IQ [FY] (x)', 'Net Debt/EBITDA [LTM - 1]',\n       'P/TangBV [Latest] (x)', 'Forward P/E - Capital IQ [NTM] (x)',\n       'P/LTM Normalized EPS [Latest] (x)',\n       'Day Close Price [Latest] (AUD, Historical rate)', 'Company Type',\n       'Exchanges (Primary Listing)',\n       'Exchange Country/Region [Primary Listing]', '1 Year Beta [Latest]',\n       'Day Close Price / 52 Week High (%) [Latest]',\n       'Target Price - Capital IQ [Latest] (AUD, Historical rate)'],\n      dtype='object', name=0)"
     },
     "execution_count": 6,
     "metadata": {},
     "output_type": "execute_result"
    }
   ],
   "source": [
    "master_data.columns"
   ],
   "metadata": {
    "collapsed": false,
    "pycharm": {
     "name": "#%%\n"
    }
   }
  },
  {
   "cell_type": "code",
   "execution_count": 4,
   "outputs": [],
   "source": [
    "#### only look at Australia data first\n",
    "master_data= master_data[master_data['Exchange Country/Region [Primary Listing]']=='Australia']\n",
    "###### structural features\n",
    "# master_data_structural = master_data[['Company Name',\n",
    "#                                       'Primary Sector',\n",
    "#                                        'TEV/LTM EBITDA [My Setting] [Latest] (x)',\n",
    "#                                        'Altman Z Score [LTM]',\n",
    "#                                        'Total Debt/Equity % [Latest Quarter]',\n",
    "#                                        'P/BV [Latest] (x)']]\n",
    "\n",
    "###### Performance features\n",
    "master_data_performance = master_data[['Company Name',\n",
    "                                       '1 Year Beta [Latest]',\n",
    "                                       'Day Close Price / 52 Week High (%) [Latest]',\n",
    "                                       'Total Revenue [LTM - 1] (USDmm, Historical rate)',\n",
    "                                       'Total Revenue [LTM] (USDmm, Historical rate)',\n",
    "                                       'EBITDA Margin % [LTM]',\n",
    "                                       'Forward P/E - Capital IQ [NTM] (x)',\n",
    "                                       'Target Price - Capital IQ [Latest] (AUD, Historical rate)',\n",
    "                                       'Day Close Price [Latest] (AUD, Historical rate)']]"
   ],
   "metadata": {
    "collapsed": false,
    "pycharm": {
     "name": "#%%\n"
    }
   }
  },
  {
   "cell_type": "markdown",
   "source": [
    "### CLEAN DATA"
   ],
   "metadata": {
    "collapsed": false,
    "pycharm": {
     "name": "#%% md\n"
    }
   }
  },
  {
   "cell_type": "code",
   "execution_count": 153,
   "outputs": [
    {
     "name": "stdout",
     "output_type": "stream",
     "text": [
      "0\n",
      "Company Name                                0.000000\n",
      "Primary Sector                              0.000000\n",
      "TEV/LTM EBITDA [My Setting] [Latest] (x)    0.699840\n",
      "Altman Z Score [LTM]                        0.282597\n",
      "Total Debt/Equity % [Latest Quarter]        0.293241\n",
      "P/BV [Latest] (x)                           0.076637\n",
      "dtype: float64\n"
     ]
    }
   ],
   "source": [
    "### missing data handling\n",
    "master_data_structural=master_data_structural.replace(\"-\",np.nan) ### not available\n",
    "master_data_structural=master_data_structural.replace(\"NM\",np.nan)  ## not meaningful\n",
    "print(master_data_structural.isnull().mean())\n",
    "print(master_data_structural.isnull().mean())\n",
    "print(master_data_structural.isnull().mean())\n",
    "# master_data_performance=master_data_performance.replace(\"-\",np.nan)\n",
    "# master_data_performance=master_data_performance.replace(\"NM\",np.nan)\n",
    "# print(master_data_performance.isnull().mean())\n"
   ],
   "metadata": {
    "collapsed": false,
    "pycharm": {
     "name": "#%%\n"
    }
   }
  },
  {
   "cell_type": "code",
   "execution_count": 154,
   "outputs": [],
   "source": [
    "# remove data if any values showing \"NM\"\n",
    "clean_data_structural = master_data_structural[~master_data_structural.isnull().any(1)].reset_index().drop('index',axis=1)\n",
    "# clean_data_performance = master_data_performance[~master_data_performance.isnull().any(1)].reset_index().drop('index',axis=1)"
   ],
   "metadata": {
    "collapsed": false,
    "pycharm": {
     "name": "#%%\n"
    }
   }
  },
  {
   "cell_type": "code",
   "execution_count": 161,
   "outputs": [],
   "source": [
    "#### drop the 2 largest outliers\n",
    "clean_data_structural1=clean_data_structural[clean_data_structural['Company Name']!='Intelligent Monitoring Group Limited (ASX:IMB)']\n",
    "clean_data_structural2=clean_data_structural1[clean_data_structural1['Company Name']!='N1 Holdings Limited (ASX:N1H)']"
   ],
   "metadata": {
    "collapsed": false,
    "pycharm": {
     "name": "#%%\n"
    }
   }
  },
  {
   "cell_type": "code",
   "execution_count": 162,
   "outputs": [
    {
     "data": {
      "text/plain": "<AxesSubplot:>"
     },
     "execution_count": 162,
     "metadata": {},
     "output_type": "execute_result"
    },
    {
     "data": {
      "text/plain": "<Figure size 720x720 with 1 Axes>",
      "image/png": "[encoded data removed]"
     },
     "metadata": {
      "needs_background": "light"
     },
     "output_type": "display_data"
    }
   ],
   "source": [
    "#####plot outliers on real data\n",
    "clean_data_structural2.boxplot(['TEV/LTM EBITDA [My Setting] [Latest] (x)',\n",
    "                               'Altman Z Score [LTM]',\n",
    "                               'Total Debt/Equity % [Latest Quarter]',\n",
    "                               'P/BV [Latest] (x)'],figsize=(10,10))"
   ],
   "metadata": {
    "collapsed": false,
    "pycharm": {
     "name": "#%%\n"
    }
   }
  },
  {
   "cell_type": "code",
   "execution_count": 140,
   "outputs": [],
   "source": [
    "# clean_data_performance.boxplot(['Total Revenue [LTM - 1] (USDmm, Historical rate)',\n",
    "#                                 'Total Revenue [LTM] (USDmm, Historical rate)',\n",
    "#                                 'EBITDA Margin % [LTM]',\n",
    "#                                 'Forward P/E - Capital IQ [NTM] (x)',\n",
    "#                                 'Target Price - Capital IQ [Latest] (AUD, Historical rate)',\n",
    "#                                 'Day Close Price [Latest] (AUD, Historical rate)'],figsize=(10,10))"
   ],
   "metadata": {
    "collapsed": false,
    "pycharm": {
     "name": "#%%\n"
    }
   }
  },
  {
   "cell_type": "markdown",
   "source": [
    "### Standadise the data"
   ],
   "metadata": {
    "collapsed": false,
    "pycharm": {
     "name": "#%% md\n"
    }
   }
  },
  {
   "cell_type": "code",
   "execution_count": 163,
   "outputs": [],
   "source": [
    "###############################standardise the data #######################################################\n",
    "\n",
    "structure_features =['TEV/LTM EBITDA [My Setting] [Latest] (x)',\n",
    "                     'Altman Z Score [LTM]',\n",
    "                     'Total Debt/Equity % [Latest Quarter]',\n",
    "                     'P/BV [Latest] (x)' ]\n",
    "# feature_only=pd.DataFrame(StandardScaler().fit_transform(clean_data1[features]))\n",
    "\n",
    "feature_only=pd.DataFrame(MinMaxScaler(feature_range = (0, 1)).fit_transform(clean_data_structural2[structure_features]))\n",
    "feature_only.columns =[ 'TEV/LTM EBITDA [My Setting] [Latest] (x)','Altman Z Score [LTM]','Total Debt/Equity % [Latest Quarter]','P/BV [Latest] (x)']\n"
   ],
   "metadata": {
    "collapsed": false,
    "pycharm": {
     "name": "#%%\n"
    }
   }
  },
  {
   "cell_type": "markdown",
   "source": [
    "### K mean"
   ],
   "metadata": {
    "collapsed": false,
    "pycharm": {
     "name": "#%% md\n"
    }
   }
  },
  {
   "cell_type": "code",
   "execution_count": 158,
   "outputs": [
    {
     "data": {
      "text/plain": "<Figure size 432x288 with 1 Axes>",
      "image/png": "[encoded data removed]"
     },
     "metadata": {
      "needs_background": "light"
     },
     "output_type": "display_data"
    }
   ],
   "source": [
    "\n",
    "###################################plot elbow ##########################################################################\n",
    "ks = range(1, 10)\n",
    "inertias = []\n",
    "for k in ks:\n",
    "    # Create a KMeans instance with k clusters: model\n",
    "    model = KMeans(n_clusters=k)\n",
    "\n",
    "    # Fit model to samples\n",
    "    model.fit(feature_only)\n",
    "\n",
    "    # Append the inertia to the list of inertias\n",
    "    inertias.append(model.inertia_)\n",
    "\n",
    "plt.plot(ks, inertias, '-o', color='black')\n",
    "plt.xlabel('number of clusters, k')\n",
    "plt.ylabel('inertia')\n",
    "plt.xticks(ks)\n",
    "plt.show()"
   ],
   "metadata": {
    "collapsed": false,
    "pycharm": {
     "name": "#%%\n"
    }
   }
  },
  {
   "cell_type": "code",
   "execution_count": 165,
   "outputs": [],
   "source": [
    "kmeans = KMeans(n_clusters=3, max_iter=300, n_init=10, random_state=0)\n",
    "pred_y = kmeans.fit_predict(feature_only)\n",
    "#Add the cluster vector to our DataFrame, X\n",
    "feature_only[\"Cluster\"] = pred_y\n",
    "\n",
    "\n",
    "##### Combine the data\n",
    "combined=pd.concat([feature_only,clean_data_structural2['Company Name']], axis=1, join='inner')\n",
    "combined2 = clean_data_structural2.merge(combined[[ 'Company Name','Cluster']], on='Company Name', how='left')\n"
   ],
   "metadata": {
    "collapsed": false,
    "pycharm": {
     "name": "#%%\n"
    }
   }
  },
  {
   "cell_type": "markdown",
   "source": [
    "#### output - summary stats"
   ],
   "metadata": {
    "collapsed": false,
    "pycharm": {
     "name": "#%% md\n"
    }
   }
  },
  {
   "cell_type": "code",
   "execution_count": 168,
   "outputs": [],
   "source": [
    "######## Summary stats\n",
    "temp1 = pd.DataFrame( feature_only.groupby(['Cluster']).size())\n",
    "temp2= pd.DataFrame( combined2.groupby(['Cluster'])[['TEV/LTM EBITDA [My Setting] [Latest] (x)',\n",
    "                                'Altman Z Score [LTM]',\n",
    "                                'Total Debt/Equity % [Latest Quarter]',\n",
    "                                'P/BV [Latest] (x)']].agg('mean'))"
   ],
   "metadata": {
    "collapsed": false,
    "pycharm": {
     "name": "#%%\n"
    }
   }
  },
  {
   "cell_type": "code",
   "execution_count": 170,
   "outputs": [],
   "source": [
    "temp3 = temp1.merge(temp2, on='Cluster', how='left')\n"
   ],
   "metadata": {
    "collapsed": false,
    "pycharm": {
     "name": "#%%\n"
    }
   }
  },
  {
   "cell_type": "markdown",
   "source": [
    "### Visualization"
   ],
   "metadata": {
    "collapsed": false,
    "pycharm": {
     "name": "#%% md\n"
    }
   }
  },
  {
   "cell_type": "code",
   "execution_count": 172,
   "outputs": [
    {
     "data": {
      "text/plain": "'temp-plot.html'"
     },
     "execution_count": 172,
     "metadata": {},
     "output_type": "execute_result"
    }
   ],
   "source": [
    "\n",
    "#########################################################Visualization ###################################################\n",
    "\n",
    "#PCA with two principal components\n",
    "pca_2d = decomposition.PCA(n_components=2)\n",
    "#This DataFrame contains the two principal components that will be used\n",
    "#for the 2-D visualization mentioned above\n",
    "PCs_2d = pd.DataFrame(pca_2d.fit_transform(feature_only))\n",
    "\n",
    "PCs_2d.columns = [\"PC1_2d\", \"PC2_2d\"]\n",
    "plotX = pd.concat([feature_only,PCs_2d], axis=1, join='inner')\n",
    "cluster0 = plotX[plotX[\"Cluster\"] == 0]\n",
    "cluster1 = plotX[plotX[\"Cluster\"] == 1]\n",
    "cluster2 = plotX[plotX[\"Cluster\"] == 2]\n",
    "\n",
    "#trace1 is for 'Cluster 0'\n",
    "trace1 = go.Scatter(\n",
    "    x = cluster0[\"PC1_2d\"],\n",
    "    y = cluster0[\"PC2_2d\"],\n",
    "    mode = \"markers\",\n",
    "    name = \"Cluster 0\",\n",
    "    marker = dict(color = 'rgba(255, 128, 255, 0.8)'),\n",
    "    text = None)\n",
    "\n",
    "#trace2 is for 'Cluster 1'\n",
    "trace2 = go.Scatter(\n",
    "    x = cluster1[\"PC1_2d\"],\n",
    "    y = cluster1[\"PC2_2d\"],\n",
    "    mode = \"markers\",\n",
    "    name = \"Cluster 1\",\n",
    "    marker = dict(color = 'rgba(255, 128, 2, 0.8)'),\n",
    "    text = None)\n",
    "\n",
    "#trace3 is for 'Cluster 2'\n",
    "trace3 = go.Scatter(\n",
    "    x = cluster2[\"PC1_2d\"],\n",
    "    y = cluster2[\"PC2_2d\"],\n",
    "    mode = \"markers\",\n",
    "    name = \"Cluster 2\",\n",
    "    marker = dict(color = 'rgba(0, 255, 200, 0.8)'),\n",
    "    text = None)\n",
    "\n",
    "\n",
    "\n",
    "data = [trace1, trace2, trace3]\n",
    "\n",
    "title = \"Visualizing Clusters in Two Dimensions Using PCA\"\n",
    "\n",
    "layout = dict(title = title,\n",
    "              xaxis= dict(title= 'PC1',ticklen= 5,zeroline= False),\n",
    "              yaxis= dict(title= 'PC2',ticklen= 5,zeroline= False)\n",
    "              )\n",
    "\n",
    "fig = dict(data = data, layout = layout)\n",
    "\n",
    "plot(fig)\n",
    "\n"
   ],
   "metadata": {
    "collapsed": false,
    "pycharm": {
     "name": "#%%\n"
    }
   }
  },
  {
   "cell_type": "code",
   "execution_count": 105,
   "outputs": [],
   "source": [],
   "metadata": {
    "collapsed": false,
    "pycharm": {
     "name": "#%%\n"
    }
   }
  },
  {
   "cell_type": "code",
   "execution_count": null,
   "outputs": [],
   "source": [
    "\n"
   ],
   "metadata": {
    "collapsed": false,
    "pycharm": {
     "name": "#%%\n"
    }
   }
  }
 ],
 "metadata": {
  "kernelspec": {
   "display_name": "Python 3",
   "language": "python",
   "name": "python3"
  },
  "language_info": {
   "codemirror_mode": {
    "name": "ipython",
    "version": 2
   },
   "file_extension": ".py",
   "mimetype": "text/x-python",
   "name": "python",
   "nbconvert_exporter": "python",
   "pygments_lexer": "ipython2",
   "version": "2.7.6"
  }
 },
 "nbformat": 4,
 "nbformat_minor": 0
}